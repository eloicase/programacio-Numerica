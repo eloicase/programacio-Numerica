{
 "cells": [
  {
   "cell_type": "markdown",
   "id": "665d16f9",
   "metadata": {},
   "source": [
    "## sprint-3-T04\n",
    "### Eloi Canals"
   ]
  },
  {
   "cell_type": "markdown",
   "id": "712e34b5",
   "metadata": {},
   "source": [
    "[x] Nivell 1. Exercici 1. Crea una funció que donat un Array d’una dimensió, et faci un resum estadístic bàsic de les dades. Si detecta que l’array té més d’una dimensió, ha de mostrar un missatge d’error."
   ]
  },
  {
   "cell_type": "code",
   "execution_count": 12,
   "id": "a2fa9033",
   "metadata": {},
   "outputs": [
    {
     "name": "stdout",
     "output_type": "stream",
     "text": [
      "Basic stats for: [   242      3     54    756      5   7456     45 764567    456    745\n",
      "    444      8      6      3    452   3452      3]\n",
      "Data type is: <class 'numpy.ndarray'>\n",
      "Shape is: (17,)\n",
      "Max value is: 764567\n",
      "Min value is: 3\n",
      "Array mean is: 45805.71\n",
      "Array sum is: 778697\n"
     ]
    }
   ],
   "source": [
    "import numpy as np\n",
    "\n",
    "def statsarr(myarr):\n",
    "    if myarr.ndim > 1:\n",
    "        print(f\"Error. Array te {myarr.ndim} dimensions.\")\n",
    "    else:\n",
    "        print(f'Basic stats for: {myarr}')\n",
    "        print(f'Data type is: {type(myarr)}')\n",
    "        print(f'Shape is: {myarr.shape}')\n",
    "        print(f'Max value is: {myarr.max()}')\n",
    "        print(f'Min value is: {myarr.min()}')\n",
    "        print(f'Array mean is: {myarr.mean().round(2)}')\n",
    "        print(f'Array sum is: {myarr.sum()}')\n",
    "\n",
    "array1 = np.array([242,3,54,756,5,7456,45,764567,456,745,444,8,6,3,452,3452,3])\n",
    "\n",
    "statsarr(array1)"
   ]
  },
  {
   "cell_type": "markdown",
   "id": "34d751f3",
   "metadata": {},
   "source": [
    "[x] Nivell 1. Exercici 2. Crea una funció que et generi un quadrat NxN de nombres aleatoris entre el 0 i el 100."
   ]
  },
  {
   "cell_type": "code",
   "execution_count": 33,
   "id": "d4039d50",
   "metadata": {},
   "outputs": [
    {
     "name": "stdout",
     "output_type": "stream",
     "text": [
      "My new array is: [[0.63516264 0.02343374 0.79708667 0.52608572 0.56453319]\n",
      " [0.50342835 0.42559896 0.02595854 0.14619117 0.39916286]\n",
      " [0.21251254 0.76784179 0.28988299 0.07626051 0.20412926]\n",
      " [0.38213415 0.01018104 0.8957677  0.19152116 0.1113254 ]\n",
      " [0.56851769 0.14888406 0.07296802 0.6440319  0.19433362]]\n"
     ]
    }
   ],
   "source": [
    "def buildarr(arrsize):\n",
    "        newarr = np.random.random((arrsize,arrsize))\n",
    "        return newarr\n",
    "\n",
    "myarr = buildarr(5)\n",
    "print(f'My new array is: {myarr}')"
   ]
  },
  {
   "cell_type": "markdown",
   "id": "8f74c23c",
   "metadata": {},
   "source": [
    "[x] Nivell 1. Exercici 3. Crea una funció que donada una taula de dues dimensions, et calculi els totals per fila i els totals per columna."
   ]
  },
  {
   "cell_type": "code",
   "execution_count": 29,
   "id": "e4688b7a",
   "metadata": {},
   "outputs": [
    {
     "name": "stdout",
     "output_type": "stream",
     "text": [
      "Totals per eix x:\n",
      "[2.06549457 2.30116111 2.56305251 2.60700218 3.70466842]\n",
      "Totals per eix y:\n",
      "[2.71117828 2.5162451  2.16103251 2.96675877 2.88616414]\n"
     ]
    }
   ],
   "source": [
    "def totals(myarrt):\n",
    "    totalsx = myarrt.sum(1)\n",
    "    totalsy = myarrt.sum(0)\n",
    "    return totalsx, totalsy\n",
    "\n",
    "totx,toty = totals(myarr)\n",
    "print('Totals per eix x:')\n",
    "print(totx)\n",
    "print('Totals per eix y:')\n",
    "print(toty)"
   ]
  },
  {
   "cell_type": "markdown",
   "id": "034b9632",
   "metadata": {},
   "source": [
    "[x] Nivell 1. Exercici 4. Implementa manualment una funció que calculi el coeficient de correlació. Informa’t-en sobre els seus usos i interpretació."
   ]
  },
  {
   "cell_type": "code",
   "execution_count": 34,
   "id": "eb7f823d",
   "metadata": {},
   "outputs": [
    {
     "name": "stdout",
     "output_type": "stream",
     "text": [
      "El coeficient de correlació de la matriu es: [[ 1.         -0.47057312 -0.80579546  0.76148799  0.13775494]\n",
      " [-0.47057312  1.          0.31560158 -0.64819666  0.16208198]\n",
      " [-0.80579546  0.31560158  1.         -0.28670778 -0.57370652]\n",
      " [ 0.76148799 -0.64819666 -0.28670778  1.         -0.24349308]\n",
      " [ 0.13775494  0.16208198 -0.57370652 -0.24349308  1.        ]]\n"
     ]
    }
   ],
   "source": [
    "def mycoef(arrcoef):\n",
    "    return np.corrcoef(arrcoef)\n",
    "\n",
    "print(f'El coeficient de correlació de la matriu es: {mycoef(myarr)}')"
   ]
  },
  {
   "cell_type": "code",
   "execution_count": null,
   "id": "69582846",
   "metadata": {},
   "outputs": [],
   "source": []
  }
 ],
 "metadata": {
  "kernelspec": {
   "display_name": "Python 3",
   "language": "python",
   "name": "python3"
  },
  "language_info": {
   "codemirror_mode": {
    "name": "ipython",
    "version": 3
   },
   "file_extension": ".py",
   "mimetype": "text/x-python",
   "name": "python",
   "nbconvert_exporter": "python",
   "pygments_lexer": "ipython3",
   "version": "3.8.8"
  }
 },
 "nbformat": 4,
 "nbformat_minor": 5
}
